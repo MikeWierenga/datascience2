{
 "cells": [
  {
   "cell_type": "markdown",
   "id": "5884c4bc",
   "metadata": {},
   "source": [
    "# networkX crashcourse"
   ]
  },
  {
   "cell_type": "code",
   "execution_count": 14,
   "id": "fac6ca7f",
   "metadata": {},
   "outputs": [],
   "source": [
    "import networkx as nx\n",
    "import matplotlib.pyplot as plt\n",
    "import pandas as np"
   ]
  },
  {
   "cell_type": "markdown",
   "id": "65202819",
   "metadata": {},
   "source": [
    "## Fundamentals"
   ]
  },
  {
   "cell_type": "markdown",
   "id": "2c445b68",
   "metadata": {},
   "source": [
    "### creating graphs"
   ]
  },
  {
   "cell_type": "code",
   "execution_count": 5,
   "id": "fe2bc65e",
   "metadata": {},
   "outputs": [],
   "source": [
    "graph = nx.Graph()\n",
    "# digraph\n",
    "g = nx.DiGraph()\n",
    "# multigraph\n",
    "g = nx.MultiGraph()\n",
    "g = nx.MultiDiGraph()"
   ]
  },
  {
   "cell_type": "markdown",
   "id": "b5fd54d2",
   "metadata": {},
   "source": [
    "### adding adges"
   ]
  },
  {
   "cell_type": "code",
   "execution_count": 11,
   "id": "af9b6fe8",
   "metadata": {},
   "outputs": [
    {
     "data": {
      "image/png": "[encoded data removed]",
      "text/plain": [
       "<Figure size 432x288 with 1 Axes>"
      ]
     },
     "metadata": {},
     "output_type": "display_data"
    }
   ],
   "source": [
    "# by creating an edge you also create the vertices\n",
    "graph.add_edge(1,2)\n",
    "graph.add_edge(2,3, weight=0.9) #edge with a weight\n",
    "graph.add_edge('a', 'b')\n",
    "graph.add_node('C')\n",
    "# nx.draw_spring(graph, with_labels=True)\n",
    "\n",
    "#edgelist\n",
    "edge_list = [(1,2), (2,3), (3,4),(3,5)]\n",
    "test = nx.from_edgelist(edge_list)\n",
    "nx.draw(test)"
   ]
  },
  {
   "cell_type": "markdown",
   "id": "625e0bc0",
   "metadata": {},
   "source": [
    "# Adjacency matrices"
   ]
  },
  {
   "cell_type": "code",
   "execution_count": 13,
   "id": "ada56370",
   "metadata": {},
   "outputs": [
    {
     "name": "stdout",
     "output_type": "stream",
     "text": [
      "  (0, 1)\t1.0\n",
      "  (1, 0)\t1.0\n",
      "  (1, 2)\t0.9\n",
      "  (2, 1)\t0.9\n",
      "  (3, 4)\t1.0\n",
      "  (4, 3)\t1.0\n"
     ]
    }
   ],
   "source": [
    "print(nx.adjacency_matrix(graph))"
   ]
  },
  {
   "cell_type": "code",
   "execution_count": 26,
   "id": "6d5ef993",
   "metadata": {},
   "outputs": [
    {
     "ename": "NetworkXError",
     "evalue": "Input array must be 2D, not 1",
     "output_type": "error",
     "traceback": [
      "\u001b[1;31m---------------------------------------------------------------------------\u001b[0m",
      "\u001b[1;31mNetworkXError\u001b[0m                             Traceback (most recent call last)",
      "\u001b[1;32mC:\\Users\\MIKEWI~1\\AppData\\Local\\Temp/ipykernel_14652/1961186450.py\u001b[0m in \u001b[0;36m<module>\u001b[1;34m\u001b[0m\n\u001b[0;32m      1\u001b[0m \u001b[0mA\u001b[0m \u001b[1;33m=\u001b[0m \u001b[0mnp\u001b[0m\u001b[1;33m.\u001b[0m\u001b[0marray\u001b[0m\u001b[1;33m(\u001b[0m\u001b[1;33m[\u001b[0m\u001b[1;33m[\u001b[0m\u001b[1;36m1\u001b[0m\u001b[1;33m,\u001b[0m \u001b[1;36m1\u001b[0m\u001b[1;33m]\u001b[0m\u001b[1;33m,\u001b[0m \u001b[1;33m[\u001b[0m\u001b[1;36m1\u001b[0m\u001b[1;33m,\u001b[0m \u001b[1;36m2\u001b[0m\u001b[1;33m]\u001b[0m\u001b[1;33m]\u001b[0m\u001b[1;33m)\u001b[0m\u001b[1;33m\u001b[0m\u001b[1;33m\u001b[0m\u001b[0m\n\u001b[1;32m----> 2\u001b[1;33m \u001b[0mG\u001b[0m \u001b[1;33m=\u001b[0m \u001b[0mnx\u001b[0m\u001b[1;33m.\u001b[0m\u001b[0mfrom_numpy_array\u001b[0m\u001b[1;33m(\u001b[0m\u001b[0mA\u001b[0m\u001b[1;33m,\u001b[0m \u001b[0mcreate_using\u001b[0m\u001b[1;33m=\u001b[0m\u001b[0mnx\u001b[0m\u001b[1;33m.\u001b[0m\u001b[0mMultiGraph\u001b[0m\u001b[1;33m)\u001b[0m\u001b[1;33m\u001b[0m\u001b[1;33m\u001b[0m\u001b[0m\n\u001b[0m",
      "\u001b[1;32mC:\\anaconda\\lib\\site-packages\\networkx\\convert_matrix.py\u001b[0m in \u001b[0;36mfrom_numpy_array\u001b[1;34m(A, parallel_edges, create_using)\u001b[0m\n\u001b[0;32m   1352\u001b[0m     \u001b[0mG\u001b[0m \u001b[1;33m=\u001b[0m \u001b[0mnx\u001b[0m\u001b[1;33m.\u001b[0m\u001b[0mempty_graph\u001b[0m\u001b[1;33m(\u001b[0m\u001b[1;36m0\u001b[0m\u001b[1;33m,\u001b[0m \u001b[0mcreate_using\u001b[0m\u001b[1;33m)\u001b[0m\u001b[1;33m\u001b[0m\u001b[1;33m\u001b[0m\u001b[0m\n\u001b[0;32m   1353\u001b[0m     \u001b[1;32mif\u001b[0m \u001b[0mA\u001b[0m\u001b[1;33m.\u001b[0m\u001b[0mndim\u001b[0m \u001b[1;33m!=\u001b[0m \u001b[1;36m2\u001b[0m\u001b[1;33m:\u001b[0m\u001b[1;33m\u001b[0m\u001b[1;33m\u001b[0m\u001b[0m\n\u001b[1;32m-> 1354\u001b[1;33m         \u001b[1;32mraise\u001b[0m \u001b[0mnx\u001b[0m\u001b[1;33m.\u001b[0m\u001b[0mNetworkXError\u001b[0m\u001b[1;33m(\u001b[0m\u001b[1;34mf\"Input array must be 2D, not {A.ndim}\"\u001b[0m\u001b[1;33m)\u001b[0m\u001b[1;33m\u001b[0m\u001b[1;33m\u001b[0m\u001b[0m\n\u001b[0m\u001b[0;32m   1355\u001b[0m     \u001b[0mn\u001b[0m\u001b[1;33m,\u001b[0m \u001b[0mm\u001b[0m \u001b[1;33m=\u001b[0m \u001b[0mA\u001b[0m\u001b[1;33m.\u001b[0m\u001b[0mshape\u001b[0m\u001b[1;33m\u001b[0m\u001b[1;33m\u001b[0m\u001b[0m\n\u001b[0;32m   1356\u001b[0m     \u001b[1;32mif\u001b[0m \u001b[0mn\u001b[0m \u001b[1;33m!=\u001b[0m \u001b[0mm\u001b[0m\u001b[1;33m:\u001b[0m\u001b[1;33m\u001b[0m\u001b[1;33m\u001b[0m\u001b[0m\n",
      "\u001b[1;31mNetworkXError\u001b[0m: Input array must be 2D, not 1"
     ]
    }
   ],
   "source": [
    "# A = np.array([[1, 1], [1, 2]])\n",
    "# G = nx.from_numpy_array(A, create_using=nx.MultiGraph)"
   ]
  },
  {
   "cell_type": "markdown",
   "id": "4d87d287",
   "metadata": {},
   "source": [
    "# Visualizing graphs"
   ]
  },
  {
   "cell_type": "code",
   "execution_count": null,
   "id": "a4233efc",
   "metadata": {},
   "outputs": [],
   "source": []
  }
 ],
 "metadata": {
  "kernelspec": {
   "display_name": "Python 3 (ipykernel)",
   "language": "python",
   "name": "python3"
  },
  "language_info": {
   "codemirror_mode": {
    "name": "ipython",
    "version": 3
   },
   "file_extension": ".py",
   "mimetype": "text/x-python",
   "name": "python",
   "nbconvert_exporter": "python",
   "pygments_lexer": "ipython3",
   "version": "3.9.7"
  },
  "toc": {
   "base_numbering": 1,
   "nav_menu": {},
   "number_sections": true,
   "sideBar": true,
   "skip_h1_title": false,
   "title_cell": "Table of Contents",
   "title_sidebar": "Contents",
   "toc_cell": false,
   "toc_position": {},
   "toc_section_display": true,
   "toc_window_display": false
  }
 },
 "nbformat": 4,
 "nbformat_minor": 5
}
