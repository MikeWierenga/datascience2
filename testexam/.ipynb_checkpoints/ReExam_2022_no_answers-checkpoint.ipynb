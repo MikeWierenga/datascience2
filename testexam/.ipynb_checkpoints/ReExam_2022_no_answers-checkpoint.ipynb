{
 "cells": [
  {
   "cell_type": "markdown",
   "metadata": {},
   "source": [
    "# Graph Theory Questions for Jupyter-based Exam"
   ]
  },
  {
   "cell_type": "markdown",
   "metadata": {},
   "source": [
    "## Instructions\n",
    "1. You may use any source of information you can find, so long as you don't communicate with anyone else.\n",
    "2. You can put your answers in the marked cells. If you prefer making multiple answer cells that's also ok, but make sure I know which question you're answering where.\n",
    "3. You can split up code answers into multiple cells if you like, but keep them in order for me to grade!\n",
    "3. You get partial points for partial answers. This means you can still get points for coding questions if you explain your reasoning, but don't manage the code itself.\n",
    "4. You have 90 minutes total for the exam (unless you are eligible for \"Special Facilities\"), distribute it wisely amongst questions.\n",
    "5. Remember you can look up the documentation of any function or object by appending \"?\" (question mark) to it without calling it with \"()\"; this is the same documentation as you'd look up on the internet! See an example in the next cell.\n",
    "4. Unless specified otherwise you may assume graphs are simple and undirected.\n",
    "6. Your final grade will be `score / 70 * 9 + 1`\n"
   ]
  },
  {
   "cell_type": "code",
   "execution_count": 1,
   "metadata": {},
   "outputs": [
    {
     "name": "stdout",
     "output_type": "stream",
     "text": [
      "Object `nx.Graph` not found.\n"
     ]
    }
   ],
   "source": [
    "nx.Graph?"
   ]
  },
  {
   "cell_type": "markdown",
   "metadata": {},
   "source": [
    "# -- BEGIN EXAM --\n",
    "Good luck!\n",
    "*Don't forget to run the global imports defined in the next cell!!!*"
   ]
  },
  {
   "cell_type": "code",
   "execution_count": 13,
   "metadata": {},
   "outputs": [],
   "source": [
    "# Global definitions you will need are here; RUN THIS CELL\n",
    "# Define any extra global modules you want to add yourself here as well!\n",
    "# As well as any extra helper functions you want to use in all exercises below.\n",
    "import networkx as nx\n",
    "import matplotlib.pyplot as plt\n",
    "%matplotlib inline"
   ]
  },
  {
   "cell_type": "markdown",
   "metadata": {},
   "source": [
    "## Question 1 (10pt)\n",
    "\n",
    "Answer the following questions.\n",
    "\n",
    "1. What is the definition of the chromatic number of a graph? Give a non-trivial[1] example.\n",
    "1. What is the definition of a bipartite graph? Give a non-trivial[1] example.\n",
    "1. What is the chromatic number of a bipartite graph?\n",
    "1. What is the chromatic number of a $K_n$ complete graph?\n",
    "1. What is the chromatic number of a cycle graph of size $n$?\n",
    "1. What is the chromatic number of a graph containing a clique of size $n$?\n",
    "1. Explain in your own words what the following means. What is X?\n",
    "   > Sets $A_1, A_2, ..., A_n$ are called X if and only if $A_i \\cap A_j = \\emptyset \\forall i \\neq j$\n",
    "\n",
    "[1] For example, the chromatic number of a graph without any edges is too simple."
   ]
  },
  {
   "cell_type": "code",
   "execution_count": 14,
   "metadata": {
    "scrolled": true
   },
   "outputs": [
    {
     "data": {
      "image/png": "[encoded data removed]",
      "text/plain": [
       "<Figure size 432x288 with 1 Axes>"
      ]
     },
     "metadata": {},
     "output_type": "display_data"
    }
   ],
   "source": [
    "## Answers to question 1\n",
    "# 1. the minimal number of colours neee to colour the vertices in such a way that no two ajacent vertices have the same colour\n",
    "graph = nx.Graph()\n",
    "graph.add_edge(1,2)\n",
    "graph.add_edge(1,3)\n",
    "graph.add_edge(2,3)\n",
    "graph.add_edge(2,4)\n",
    "color_list = [\"red\", 'green', 'blue', 'red']\n",
    "# nx.draw(graph, with_labels=True, node_color=color_list)\n",
    "# 2 a bipartite graph is a graph where nodes are separated in 2 groups so that edges only exist between those groups\n",
    "B = nx.Graph()\n",
    "# Add nodes with the node attribute \"bipartite\"\n",
    "B.add_nodes_from([1, 2, 3, 4], bipartite=0)\n",
    "B.add_nodes_from([\"a\", \"b\", \"c\"], bipartite=1)\n",
    "# Add edges only between nodes of opposite node sets\n",
    "B.add_edges_from([(1, \"a\"), (1, \"b\"), (2, \"b\"), (2, \"c\"), (3, \"c\"), (4, \"a\")])\n",
    "nx.draw(B, with_labels=True)\n",
    "# 3 the minimum number of a bipartite graph is 2\n",
    "# the chromatic number will be equal to n because everything is connected\n",
    "# 5 3 if the n is odd otherwise 2"
   ]
  },
  {
   "cell_type": "markdown",
   "metadata": {},
   "source": [
    "## Question 2 (20pt)\n",
    "\n",
    "Some proteins can adopt multiple conformations and transition between these conformations. You can describe these kind of systems using directed graphs. Nodes will be the conformations, and edges the transitions between these conformations. Some of these conformations will be more stable than others, and transitions between these conformations will not be arbitrary. For example, a transition from an alpha-helical conformation to a coil conformation will be more likely than a transition from an alpha-helical conformation directly to a beta-sheet conformation. These transition probablities can be expressed as floating point numbers between 0 and 1, where this probability expresses the proportion of protein that undergoes that transition in a time step. \n",
    "\n",
    "Given the following system, consider the following example (You can find the networkx digraph in the following cell).\n",
    "\n",
    "| Transition | Probability |\n",
    "|------------|-------------|\n",
    "| A -> A     | 0.49        |\n",
    "| A -> B     | 0.01        |\n",
    "| A -> C     | 0.5         |\n",
    "| B -> A     | 0.01        |\n",
    "| B -> B     | 0.3         |\n",
    "| B -> C     | 0.69        |\n",
    "| C -> A     | 0.65        |\n",
    "| C -> B     | 0.3         |\n",
    "| C -> C     | 0.05        |\n",
    "\n",
    "\n",
    "| Time || A | B | C |\n",
    "|------||---|---|---|\n",
    "|0||0.30|0.40|0.30|\n",
    "|1||0.35|0.21|0.44|\n",
    "|2||0.46|0.20|0.34|\n",
    "|3||0.45|0.17|0.38|\n",
    "|4||0.47|0.17|0.36|\n",
    "|5||0.47|0.16|0.37|\n",
    "|6||0.47|0.16|0.36|\n",
    "|7||0.47|0.16|0.37|\n",
    "\n",
    "At $t=0$ 0.3 of the population is A, 0.4 is B, and 0.3 is C. Each time step 50% of A, 69% of B, and 5% of C is transformed to C. So, at $t=1$ C has become $0.5*0.3 + 0.69*0.4 + 0.05*0.3 = 0.441$. What you can see is that after about 4 steps a stable state is reached, where 0.47 of the population is A, 0.16 is B, and 0.37 is C, and this distribution does not change any more.\n",
    "\n",
    "An interesting question you can ask for these kind of systems is what the distribution is between the separate conformations after an inifinite amount of time.\n",
    "\n",
    "For all the following questions you can calculate the answer by hand, code up an universal solution, or even determine the answer with just reasoning. Explain your answer in all cases though!\n",
    "\n",
    "Hint: If you choose to calculate a stable state you may assume the stable state will be reached after 100 steps.\n",
    "\n",
    "1. Given a transition digraph with two nodes and edge weights of A->B=0.3 and B->A=0.7, what is the stable state after $\\infty$ time?\n",
    "2. You're given a digraph G containing a node $v_0$. $v_0$ has an out-degree of 0 and an in-degree of 1. In addition, the induced subgraph $G \\setminus v_0$ (G with node $v_0$ removed) is strongly connected. What is the stable state after $\\infty$ time? Why is it important to mention $G \\setminus v_0$ is strongly connected?\n",
    "3. The sum of the weighted out-degree of nodes in a transition digraphs should be normalized to 1. Why?\n",
    "4. Load the digraph from the file `transition_graph.edgelist` (which is in edge list format: the first two columns are node indices, the third column is the transition probability), and determine the stable state. "
   ]
  },
  {
   "cell_type": "code",
   "execution_count": 17,
   "metadata": {
    "scrolled": false
   },
   "outputs": [
    {
     "data": {
      "image/png": "[encoded data removed]",
      "text/plain": [
       "<Figure size 432x288 with 1 Axes>"
      ]
     },
     "metadata": {},
     "output_type": "display_data"
    }
   ],
   "source": [
    "# Here's the digraph from the example.\n",
    "transition_graph = nx.DiGraph()\n",
    "transition_graph.add_edges_from([\n",
    "    ('A', 'A', {'weight': 0.49}),\n",
    "    ('A', 'B', {'weight': 0.01}),\n",
    "    ('A', 'C', {'weight': 0.5}),\n",
    "    ('B', 'A', {'weight': 0.01}),\n",
    "    ('B', 'B', {'weight': 0.3}),\n",
    "    ('B', 'C', {'weight': 0.69}),\n",
    "    ('C', 'A', {'weight': 0.65}),\n",
    "    ('C', 'B', {'weight': 0.3}),\n",
    "    ('C', 'C', {'weight': 0.05}),\n",
    "])\n",
    "layout = {'A': (0, 0), 'B': (0.5, 1), 'C': (1, 0)}\n",
    "weights = nx.get_edge_attributes(transition_graph, 'weight')\n",
    "nx.draw(transition_graph, pos=layout, with_labels=True, connectionstyle='arc3,rad=0.1', arrowsize=15)\n",
    "nx.draw_networkx_edge_labels(transition_graph, \n",
    "                             pos=layout, \n",
    "                             edge_labels=weights,\n",
    "                             verticalalignment='center',\n",
    "                             label_pos=0.25);"
   ]
  },
  {
   "cell_type": "code",
   "execution_count": 27,
   "metadata": {},
   "outputs": [
    {
     "name": "stdout",
     "output_type": "stream",
     "text": [
      "(0.7, 0.3)\n",
      "(0.7, 0.3)\n",
      "(0.7, 0.3)\n",
      "(0.7, 0.3)\n",
      "(0.7, 0.3)\n",
      "(0.7, 0.3)\n",
      "(0.7, 0.3)\n",
      "(0.7, 0.3)\n",
      "(0.7, 0.3)\n",
      "(0.7, 0.3)\n",
      "(0.7, 0.3)\n",
      "(0.7, 0.3)\n",
      "(0.7, 0.3)\n",
      "(0.7, 0.3)\n",
      "(0.7, 0.3)\n",
      "(0.7, 0.3)\n",
      "(0.7, 0.3)\n",
      "(0.7, 0.3)\n",
      "(0.7, 0.3)\n",
      "(0.7, 0.3)\n",
      "(0.7, 0.3)\n",
      "(0.7, 0.3)\n",
      "(0.7, 0.3)\n",
      "(0.7, 0.3)\n",
      "(0.7, 0.3)\n",
      "(0.7, 0.3)\n",
      "(0.7, 0.3)\n",
      "(0.7, 0.3)\n",
      "(0.7, 0.3)\n",
      "(0.7, 0.3)\n",
      "(0.7, 0.3)\n",
      "(0.7, 0.3)\n",
      "(0.7, 0.3)\n",
      "(0.7, 0.3)\n",
      "(0.7, 0.3)\n",
      "(0.7, 0.3)\n",
      "(0.7, 0.3)\n",
      "(0.7, 0.3)\n",
      "(0.7, 0.3)\n",
      "(0.7, 0.3)\n",
      "(0.7, 0.3)\n",
      "(0.7, 0.3)\n",
      "(0.7, 0.3)\n",
      "(0.7, 0.3)\n",
      "(0.7, 0.3)\n",
      "(0.7, 0.3)\n",
      "(0.7, 0.3)\n",
      "(0.7, 0.3)\n",
      "(0.7, 0.3)\n",
      "(0.7, 0.3)\n",
      "(0.7, 0.3)\n",
      "(0.7, 0.3)\n",
      "(0.7, 0.3)\n",
      "(0.7, 0.3)\n",
      "(0.7, 0.3)\n",
      "(0.7, 0.3)\n",
      "(0.7, 0.3)\n",
      "(0.7, 0.3)\n",
      "(0.7, 0.3)\n",
      "(0.7, 0.3)\n",
      "(0.7, 0.3)\n",
      "(0.7, 0.3)\n",
      "(0.7, 0.3)\n",
      "(0.7, 0.3)\n",
      "(0.7, 0.3)\n",
      "(0.7, 0.3)\n",
      "(0.7, 0.3)\n",
      "(0.7, 0.3)\n",
      "(0.7, 0.3)\n",
      "(0.7, 0.3)\n",
      "(0.7, 0.3)\n",
      "(0.7, 0.3)\n",
      "(0.7, 0.3)\n",
      "(0.7, 0.3)\n",
      "(0.7, 0.3)\n",
      "(0.7, 0.3)\n",
      "(0.7, 0.3)\n",
      "(0.7, 0.3)\n",
      "(0.7, 0.3)\n",
      "(0.7, 0.3)\n",
      "(0.7, 0.3)\n",
      "(0.7, 0.3)\n",
      "(0.7, 0.3)\n",
      "(0.7, 0.3)\n",
      "(0.7, 0.3)\n",
      "(0.7, 0.3)\n",
      "(0.7, 0.3)\n",
      "(0.7, 0.3)\n",
      "(0.7, 0.3)\n",
      "(0.7, 0.3)\n",
      "(0.7, 0.3)\n",
      "(0.7, 0.3)\n",
      "(0.7, 0.3)\n",
      "(0.7, 0.3)\n",
      "(0.7, 0.3)\n",
      "(0.7, 0.3)\n",
      "(0.7, 0.3)\n",
      "(0.7, 0.3)\n",
      "(0.7, 0.3)\n",
      "(0.7, 0.3)\n",
      "0.7, 0.3\n"
     ]
    }
   ],
   "source": [
    "## Answers to Question 2\n",
    "#2.1\n",
    "A = 0.2\n",
    "B = 0.8\n",
    "\n",
    "def steady_state(A,B):\n",
    "    new_A = (0.7 * A) + (0.7* B)\n",
    "    new_B = (0.3 * A) + (0.3 * B)\n",
    "    return new_A, new_B\n",
    "\n",
    "for run in range(100):\n",
    "    \n",
    "    A,B = steady_state(A,B)\n",
    "\n",
    "print(f'{A}, {B}')"
   ]
  },
  {
   "cell_type": "markdown",
   "metadata": {},
   "source": [
    "## Question 3 (20 pt)\n",
    "\n",
    "A sports club had an internal dispute, and is split into two. People who are friends joined the same, new, club. For all the members of both clubs researchers tracked how often they interact outside of the sports club.\n",
    "\n",
    "1. Load in the graph in the file `karate_club.graphml`. If you don't manage to read in this file, use the following snippet of code: `graph = nx.karate_club_graph()` (doing this means you will get 0 points for this subquestion). This graph is annotated in two ways: each node has a `\"club\"` attribute describing which new club they joined (either 'Officer' or 'Mr. Hi'); additionally, each edge has a `\"weight\"` attribute, describing how often two people interact outside of the club. \n",
    "2. Assume the teachers of the new clubs are the most social/central. Identify the two new teachers. Which method(s) did you use, and why? If you don't manage, continue with nodes 4 and 24 as teachers to gain 0 points on this subquestion.\n",
    "3. For both teachers, calculate the average distance between the teacher and their students, and between the teacher and members of the other club. Does this match your expectations? Plot the distances between teachers and students as 4 histograms.\n",
    "4. Some members had difficulties choosing which club to join. Who?"
   ]
  },
  {
   "cell_type": "code",
   "execution_count": null,
   "metadata": {},
   "outputs": [],
   "source": [
    "## Answers to Question 3"
   ]
  },
  {
   "cell_type": "markdown",
   "metadata": {},
   "source": [
    "## Question 4 (20 pt)\n",
    "\n",
    "From Wikipedia[[1]]: \"a maximum common induced subgraph of two graphs G and H is a graph that is an induced subgraph of both G and H, and that has as many vertices as possible\".\n",
    "\n",
    "Given two simple, undirected graphs $G$ and $H$ one way of finding the maximum common induced subgraph is by first constructing the *modular product graph*[[2]] $M$, and then finding all cliques in $M$. If $G$ has nodes $a, b, c, d, ...$, and H has nodes $1, 2, 3, 4, ...$ then $M$ will have as nodes all possible combinations: $V(M) = (a, 1), (a, 2), ..., (a, |H|), (b, 1), ..., (b, |H|), ..., (|G|, 1), ..., (|G|, |H|)$. $M$ will contain an edge if the edge is either in both graphs, or in neither. In other words:\n",
    "Edge $((u1, v1), (u2, v2)) \\in E(M)$ if either $(u1, u2) \\in E(G)$ *and* $(v1, v2) \\in E(H)$; or $(u1, u2) \\notin E(G)$ *and* $(v1, v2) \\notin E(H)$. \n",
    "\n",
    "For example, if $(a, b) \\in E(G)$ and $(2, 6) \\in E(H)$, then $((a, 2), (b, 6)) \\in E(M)$. Or, if $(a, c) \\notin E(G)$ and $(3, 6) \\notin E(H)$ then $((a, 3), (c, 6)) \\in E(M)$.\n",
    "\n",
    "Clique(s) of $M$ will consist of nodes in $M$, which in turn correspond to nodes in $G$ and $H$. For example, if $M$ contains a clique ${(a, 3), (b, 2), (c, 1)}$ it means the induced subgraph ${a, b, c} \\subseteq V(G)$ is isomorphic to the induced subgraph ${1, 2, 3} \\subseteq V(H)$. It is often convenient to express this as a mapping of nodes between $G$ and $H$. In this example, the Python dictionary `{'a': 3, 'b': 2, 'c': 1}`. \n",
    "\n",
    "1. What is an induced subgraph? Also give an example.\n",
    "2. Explain in your own words what a maximum common induced subgraph is, and give an example.\n",
    "3. Explain in your own words what a modular product graph is, and give an example.\n",
    "4. Implement a function to calculate the modular product graph of two given undirected graphs.\n",
    "5. Implement a function to calculate the maximum common induced subgraph of two given graphs. Be sure to use an existing function to find the largest clique! If the modular product graph contains multiple largest cliques, you may choose which you use. Return the maximum common induced subgraph as a dict, described above.\n",
    "\n",
    "[1]: https://en.wikipedia.org/wiki/Maximum_common_induced_subgraph\n",
    "[2]: https://en.wikipedia.org/wiki/Modular_product_of_graphs"
   ]
  },
  {
   "cell_type": "code",
   "execution_count": 20,
   "metadata": {},
   "outputs": [],
   "source": [
    "## Answers to Question 4"
   ]
  },
  {
   "cell_type": "markdown",
   "metadata": {},
   "source": [
    "# --- END OF EXAM ---\n",
    "Congrats, you made it to the end of the exam! Don't forget to rename your ipynb to \"GTExam_YOUR_NAME_STUDENTNR.ipynb\" and hand it in via BlackBoard submit!"
   ]
  },
  {
   "cell_type": "code",
   "execution_count": null,
   "metadata": {},
   "outputs": [],
   "source": []
  }
 ],
 "metadata": {
  "kernelspec": {
   "display_name": "Python 3 (ipykernel)",
   "language": "python",
   "name": "python3"
  },
  "language_info": {
   "codemirror_mode": {
    "name": "ipython",
    "version": 3
   },
   "file_extension": ".py",
   "mimetype": "text/x-python",
   "name": "python",
   "nbconvert_exporter": "python",
   "pygments_lexer": "ipython3",
   "version": "3.9.7"
  },
  "toc": {
   "base_numbering": 1,
   "nav_menu": {},
   "number_sections": true,
   "sideBar": true,
   "skip_h1_title": false,
   "title_cell": "Table of Contents",
   "title_sidebar": "Contents",
   "toc_cell": false,
   "toc_position": {},
   "toc_section_display": true,
   "toc_window_display": false
  }
 },
 "nbformat": 4,
 "nbformat_minor": 4
}
